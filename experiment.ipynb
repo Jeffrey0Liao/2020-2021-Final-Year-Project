{
 "cells": [
  {
   "cell_type": "code",
   "execution_count": 8,
   "metadata": {},
   "outputs": [],
   "source": [
    "# packages & dependencies\n",
    "import numpy as np\n",
    "import cv2\n",
    "import os\n",
    "import re\n",
    "\n",
    "import torch as th\n",
    "import torch.nn as nn\n",
    "from torch.utils.data import DataLoader\n",
    "from torch.utils.data import Dataset\n",
    "import torch.nn.functional as F\n",
    "import numpy as np\n",
    "\n",
    "import dgl\n",
    "from dgl.data.tree import SSTDataset\n",
    "import dgl.function as fn\n",
    "\n",
    "import gensim\n",
    "from gensim.models import KeyedVectors\n",
    "\n",
    "from tensorflow.keras.applications.vgg19 import VGG19\n",
    "from tensorflow.keras.preprocessing import image\n",
    "from tensorflow.keras.applications.vgg19 import preprocess_input \n",
    "from tensorflow.keras.models import Model\n",
    "\n",
    "from collections import namedtuple\n",
    "import pickle\n",
    "import matplotlib.pyplot as plt\n",
    "\n",
    "import extractor as e\n",
    "import model as m\n",
    "\n",
    "# template\n",
    "SSTBatch = namedtuple('SSTBatch', ['graph', 'mask', 'wordid', 'label', 'image'])\n",
    "TRAIN_IMG_PATH = './generated_images/train'\n",
    "VAL_IMG_PATH = './generated_images/val'\n",
    "BATCH_SIZE = 16\n",
    "DEVICE = 'cuda' if th.cuda.is_available() else 'cpu'\n",
    "TARGET_SIZE = (224, 224)\n",
    "X_SIZE = 256\n",
    "H_SIZE = 256\n",
    "FEATURE_SIZE = 512\n",
    "DROPOUT = 0.0\n",
    "LR = 1e-4\n",
    "WEIGHT_DECAY = 5e-4\n",
    "EPOCHS = 1"
   ]
  },
  {
   "cell_type": "code",
   "execution_count": 9,
   "metadata": {},
   "outputs": [],
   "source": [
    "model = VGG19(weights='imagenet', include_top=False)\n",
    "img_pip = e.FeatureExtractor(model)"
   ]
  },
  {
   "cell_type": "code",
   "execution_count": 10,
   "metadata": {},
   "outputs": [],
   "source": [
    "def transform(sample, img_pip):\n",
    "    dgl_graph = sample['sentence']\n",
    "    features = img_pip.extract(sample['image'], TARGET_SIZE)\n",
    "    return {'sentence': dgl_graph, 'image': features}"
   ]
  },
  {
   "cell_type": "code",
   "execution_count": 11,
   "metadata": {},
   "outputs": [],
   "source": [
    "class HybridSentimentDataset(Dataset):\n",
    "    \"\"\"Hybrid sentiment dataset.\"\"\"\n",
    "\n",
    "    def __init__(self, SST_dataset, img_path, img_pip, transform=transform):\n",
    "        \"\"\"\n",
    "        Args:\n",
    "            root (string): Path to the tree file with annotations.\n",
    "            img_path (string): Directory with all the images.\n",
    "            transform (callable, optional): Optional transform to be applied\n",
    "                on a sample.\n",
    "        \"\"\"\n",
    "        self.SST = SST_dataset\n",
    "        self.img_path = img_path\n",
    "        self.transform = transform\n",
    "        self.img_pip = img_pip\n",
    "\n",
    "    def __len__(self):\n",
    "        return len(self.SST)\n",
    "\n",
    "    def __getitem__(self, idx):\n",
    "        if th.is_tensor(idx):\n",
    "            idx = idx.tolist()\n",
    "\n",
    "        img_name = os.path.join(self.img_path,\n",
    "                                str(idx)+'.jpg')\n",
    "        sent = self.SST[idx]\n",
    "        sample = {'sentence': sent, 'image': img_name}\n",
    "\n",
    "        if self.transform:\n",
    "            sample = self.transform(sample, self.img_pip)\n",
    "\n",
    "        return sample\n",
    "    "
   ]
  },
  {
   "cell_type": "code",
   "execution_count": 12,
   "metadata": {},
   "outputs": [],
   "source": [
    "class FlickrDataset(Dataset):\n",
    "    \"\"\"Hybrid sentiment dataset.\"\"\"\n",
    "\n",
    "    def __init__(self, flickr_text, img_path, img_pip, transform=transform):\n",
    "        \"\"\"\n",
    "        Args:\n",
    "            root (string): Path to the tree file with annotations.\n",
    "            img_path (string): Directory with all the images.\n",
    "            transform (callable, optional): Optional transform to be applied\n",
    "                on a sample.\n",
    "        \"\"\"\n",
    "        self.text = flickr_text\n",
    "        self.img_path = img_path\n",
    "        self.transform = transform\n",
    "        self.img_pip = img_pip\n",
    "\n",
    "    def __len__(self):\n",
    "        return len(self.text)\n",
    "\n",
    "    def __getitem__(self, idx):\n",
    "        if th.is_tensor(idx):\n",
    "            idx = idx.tolist()\n",
    "\n",
    "        img_name = os.path.join(self.img_path,\n",
    "                                str(self.text[idx][0]))\n",
    "        sent = self.text[idx][1]\n",
    "        sample = {'sentence': sent, 'image': img_name}\n",
    "\n",
    "        if self.transform:\n",
    "            sample = self.transform(sample, self.img_pip)\n",
    "\n",
    "        return sample\n",
    "    "
   ]
  },
  {
   "cell_type": "code",
   "execution_count": 13,
   "metadata": {},
   "outputs": [
    {
     "name": "stderr",
     "output_type": "stream",
     "text": [
      "C:\\Users\\41713\\AppData\\Roaming\\Python\\Python37\\site-packages\\dgl\\data\\utils.py:285: UserWarning: Property dataset.trees will be deprecated, please use [dataset[i] for i in len(dataset)] instead.\n",
      "  warnings.warn('Property {} will be deprecated, please use {} instead.'.format(old, new))\n",
      "C:\\Users\\41713\\AppData\\Roaming\\Python\\Python37\\site-packages\\dgl\\data\\utils.py:285: UserWarning: Property dataset.num_vocabs will be deprecated, please use dataset.vocab_size instead.\n",
      "  warnings.warn('Property {} will be deprecated, please use {} instead.'.format(old, new))\n"
     ]
    },
    {
     "name": "stdout",
     "output_type": "stream",
     "text": [
      "TreeLSTM(\n",
      "  (embedding): Embedding(19536, 256)\n",
      "  (attention): Attention(\n",
      "    (linear_in): Linear(in_features=512, out_features=256, bias=False)\n",
      "    (linear_out): Linear(in_features=768, out_features=256, bias=True)\n",
      "  )\n",
      "  (dropout): Dropout(p=0.0, inplace=False)\n",
      "  (linear): Linear(in_features=256, out_features=5, bias=True)\n",
      "  (cell): TreeLSTMCell(\n",
      "    (W_iou): Linear(in_features=256, out_features=768, bias=False)\n",
      "    (U_iou): Linear(in_features=512, out_features=768, bias=False)\n",
      "    (U_f): Linear(in_features=512, out_features=512, bias=True)\n",
      "  )\n",
      ")\n"
     ]
    }
   ],
   "source": [
    "dataset = SSTDataset(mode='train')  # the \"tiny\" set has only five trees     trainset = SSTDataset(mode='train')\n",
    "sst = dataset.trees\n",
    "num_vocabs = dataset.num_vocabs\n",
    "num_classes = dataset.num_classes\n",
    "vocab = dataset.vocab # vocabulary dict: key -> id\n",
    "inv_vocab = {v: k for k, v in vocab.items()} # inverted vocabulary dict: id -> word\n",
    "\n",
    "# with open('./flickr8k/T_Flickr8k.pkl', 'rb') as f:\n",
    "#     dataset = pickle.load(f)\n",
    "# tf8k = dataset['trees']\n",
    "# num_vocabs = (len(dataset['vocab']))\n",
    "# num_classes = dataset['num_classes']\n",
    "# vocab = dataset['vocab']\n",
    "# inv_vocab = {v: k for k, v in vocab.items()}\n",
    "\n",
    "trainset = HybridSentimentDataset(sst[:7000], TRAIN_IMG_PATH, img_pip)\n",
    "valset = HybridSentimentDataset(sst[7000:], VAL_IMG_PATH, img_pip)\n",
    "\n",
    "# trainset = FlickrDataset(tf8k[:7000], TRAIN_IMG_PATH, img_pip)\n",
    "# valset = FlickrDataset(tf8k[7000:], VAL_IMG_PATH, img_pip)\n",
    "\n",
    "# load pretrained word embeddings\n",
    "wv = th.FloatTensor(KeyedVectors.load(\"word2vec.wv\", mmap='r').vectors)\n",
    "\n",
    "def batcher(device):\n",
    "    def batcher_dev(batch):\n",
    "        graphs = [sample['sentence'] for sample in batch]\n",
    "        images = [sample['image'] for sample in batch]\n",
    "        batch_trees = dgl.batch(graphs)\n",
    "        batch_images = th.tensor(np.concatenate(images))\n",
    "        return SSTBatch(graph=batch_trees.to(device),\n",
    "                        mask=batch_trees.ndata['mask'].to(device),\n",
    "                        wordid=batch_trees.ndata['x'].to(device),\n",
    "                        label=batch_trees.ndata['y'].to(device),\n",
    "                        image=batch_images.to(device))\n",
    "    return batcher_dev\n",
    "\n",
    "train_loader = DataLoader(dataset=trainset,\n",
    "                          batch_size=BATCH_SIZE,\n",
    "                          collate_fn=batcher(DEVICE),\n",
    "                          shuffle=True,\n",
    "                          num_workers=0)\n",
    "val_loader = DataLoader(dataset=valset,\n",
    "                          batch_size=BATCH_SIZE,\n",
    "                          collate_fn=batcher(DEVICE),\n",
    "                          shuffle=True,\n",
    "                          num_workers=0)\n",
    "\n",
    "HS_model = m.TreeLSTM(num_vocabs,\n",
    "                     X_SIZE,\n",
    "                     H_SIZE,\n",
    "                     FEATURE_SIZE, \n",
    "                     num_classes,\n",
    "                     DROPOUT\n",
    "                     ).to(DEVICE)\n",
    "print(HS_model)\n",
    "\n",
    "# create the optimizer\n",
    "# optimizer = th.optim.Adagrad(HS_model.parameters(),\n",
    "#                           lr=LR,\n",
    "#                           weight_decay=WEIGHT_DECAY)\n",
    "optimizer = th.optim.Adadelta(HS_model.parameters(), weight_decay=WEIGHT_DECAY)"
   ]
  },
  {
   "cell_type": "code",
   "execution_count": 14,
   "metadata": {},
   "outputs": [],
   "source": [
    "def milestone(e, x, train_loss, val_loss, train_accuracy, val_accuracy):\n",
    "    data = {'x':x, 'train_loss':train_loss, 'val_loss':val_loss, 'train_accuracy':train_accuracy, 'val_accuracy':val_accuracy}\n",
    "    with open('./experiment_data/exp_data_epoch='+str(e)+'.pkl' , \"wb\") as f:\n",
    "        pickle.dump(data,f)\n",
    "    th.save(HS_model.state_dict(), './experiment_data/HS_model_epoch='+str(e)+'.pth')\n",
    "    fig,ax1 = plt.subplots()\n",
    "    ax2 = ax1.twinx()           # 做镜像处理\n",
    "    l1 = ax1.plot(x, train_loss, 'lightsalmon', label='train_loss')\n",
    "    l2 = ax1.plot(x, val_loss, 'red', label='val_loss')\n",
    "    l3 = ax2.plot(x, train_accuracy, 'c', label='train_accuracy')\n",
    "    l4 = ax2.plot(x, val_accuracy, 'blue', label='val_accuracy')\n",
    "    ls = l1+l2+l3+l4\n",
    "    labels = [l.get_label() for l in ls]\n",
    "    ax1.legend(ls, labels, loc=7)\n",
    "    ax1.set_xlabel('training step')    #设置x轴标题\n",
    "    ax1.set_ylabel('loss',color = 'red')   #设置Y1轴标题\n",
    "    ax2.set_ylabel('accuracy',color = 'blue')   #设置Y2轴标题\n",
    "    plt.savefig('./experiment_data/plot_epoch='+str(e)+'.png', dpi=300)\n",
    "    print('---Epoch', e, 'data saved!---')"
   ]
  },
  {
   "cell_type": "code",
   "execution_count": null,
   "metadata": {},
   "outputs": [
    {
     "name": "stderr",
     "output_type": "stream",
     "text": [
      "C:\\Users\\41713\\AppData\\Roaming\\Python\\Python37\\site-packages\\dgl\\base.py:45: DGLWarning: The input graph for the user-defined edge function does not contain valid edges\n",
      "  return warnings.warn(message, category=category, stacklevel=1)\n"
     ]
    },
    {
     "name": "stdout",
     "output_type": "stream",
     "text": [
      "Epoch 00000 | Step 00000 | Loss 1.5995 | Acc 0.3192 |\n",
      "Epoch 00000 | Step 00000 | Loss 1.5111 | Acc 0.5886 | [Validation]\n"
     ]
    }
   ],
   "source": [
    "# training loop\n",
    "counter = 0\n",
    "plot_x = []\n",
    "plot_train_loss = []\n",
    "plot_train_accuracy = []\n",
    "plot_val_loss = []\n",
    "plot_val_accuracy = []\n",
    "\n",
    "for epoch in range(EPOCHS):\n",
    "    for step, batch in enumerate(train_loader):\n",
    "        g = batch.graph.to(DEVICE)\n",
    "        n = g.number_of_nodes()\n",
    "        h = th.zeros((n, H_SIZE)).to(DEVICE)\n",
    "        c = th.zeros((n, H_SIZE)).to(DEVICE)\n",
    "        logits = HS_model(batch, h, c)\n",
    "        logp = F.log_softmax(logits, 1)\n",
    "        loss = F.nll_loss(logp, batch.label, reduction='sum') \n",
    "        optimizer.zero_grad()\n",
    "        loss.backward()\n",
    "        optimizer.step()\n",
    "        pred = th.argmax(logits, 1)\n",
    "        acc = float(th.sum(th.eq(batch.label, pred))) / len(batch.label)\n",
    "        if step%10==0:\n",
    "            print(\"Epoch {:05d} | Step {:05d} | Loss {:.4f} | Acc {:.4f} |\".format(\n",
    "                epoch, step, loss.item()/len(batch.label), acc))\n",
    "            plot_x.append(counter)\n",
    "            counter = counter + 1\n",
    "            plot_train_loss.append(loss.item()/len(batch.label))\n",
    "            plot_train_accuracy.append(acc)\n",
    "            \n",
    "            for val_batch in val_loader:\n",
    "                with th.no_grad():\n",
    "                    g = val_batch.graph.to(DEVICE)\n",
    "                    n = g.number_of_nodes()\n",
    "                    h = th.zeros((n, H_SIZE)).to(DEVICE)\n",
    "                    c = th.zeros((n, H_SIZE)).to(DEVICE)\n",
    "                    logits = HS_model(val_batch, h, c)\n",
    "                    logp = F.log_softmax(logits, 1)\n",
    "                    loss = F.nll_loss(logp, val_batch.label, reduction='sum')\n",
    "                    pred = th.argmax(logits, 1)\n",
    "                    acc = float(th.sum(th.eq(val_batch.label, pred))) / len(val_batch.label)\n",
    "                    print(\"Epoch {:05d} | Step {:05d} | Loss {:.4f} | Acc {:.4f} | [Validation]\".format(\n",
    "                        epoch, step, loss.item()/len(val_batch.label), acc))\n",
    "                    plot_val_loss.append(loss.item()/len(val_batch.label))\n",
    "                    plot_val_accuracy.append(acc)\n",
    "                break;\n",
    "    milestone(epoch, plot_x, plot_train_loss, plot_val_loss, plot_train_accuracy, plot_val_accuracy)"
   ]
  },
  {
   "cell_type": "code",
   "execution_count": 42,
   "metadata": {},
   "outputs": [
    {
     "name": "stdout",
     "output_type": "stream",
     "text": [
      "0.7697801360134267 0.647598930027174 0.7100119624008193 0.7554347826086957\n"
     ]
    }
   ],
   "source": [
    "# visualization\n",
    "final_loss = plot_val_loss[-1]\n",
    "avg_loss = sum(plot_val_loss)/len(plot_val_loss)\n",
    "final_acc = plot_val_accuracy[-1]\n",
    "avg_acc = sum(plot_val_accuracy)/len(plot_val_accuracy)\n",
    "print(avg_loss, final_loss, avg_acc, final_acc)"
   ]
  },
  {
   "cell_type": "code",
   "execution_count": 43,
   "metadata": {},
   "outputs": [
    {
     "data": {
      "image/png": "[encoded data removed]",
      "text/plain": [
       "<Figure size 432x288 with 2 Axes>"
      ]
     },
     "metadata": {
      "needs_background": "light"
     },
     "output_type": "display_data"
    }
   ],
   "source": []
  }
 ],
 "metadata": {
  "kernelspec": {
   "display_name": "Python 3",
   "language": "python",
   "name": "python3"
  },
  "language_info": {
   "codemirror_mode": {
    "name": "ipython",
    "version": 3
   },
   "file_extension": ".py",
   "mimetype": "text/x-python",
   "name": "python",
   "nbconvert_exporter": "python",
   "pygments_lexer": "ipython3",
   "version": "3.7.0"
  }
 },
 "nbformat": 4,
 "nbformat_minor": 2
}
